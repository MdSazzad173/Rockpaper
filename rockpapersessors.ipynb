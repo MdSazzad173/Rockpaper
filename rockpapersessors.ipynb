{
  "nbformat": 4,
  "nbformat_minor": 0,
  "metadata": {
    "colab": {
      "provenance": [],
      "collapsed_sections": []
    },
    "kernelspec": {
      "name": "python3",
      "display_name": "Python 3"
    },
    "language_info": {
      "name": "python"
    }
  },
  "cells": [
    {
      "cell_type": "markdown",
      "source": [
        "# **This a project of a game called Rock Paper Sissors!**"
      ],
      "metadata": {
        "id": "llRfXS9Ru55I"
      }
    },
    {
      "cell_type": "code",
      "execution_count": 22,
      "metadata": {
        "id": "qUdzLEFKutob"
      },
      "outputs": [],
      "source": [
        "#imporint Random module \n",
        "import random "
      ]
    },
    {
      "cell_type": "code",
      "source": [
        "def game(user,user2,computer):\n",
        "  \n",
        "  #Winning combination\n",
        "  if user=='r' and computer=='s':\n",
        "    return 1\n",
        "  elif user=='p' and computer=='s':\n",
        "    return 1\n",
        "  elif user=='s' and computer=='p':\n",
        "    return 1\n",
        "  \n",
        "  #losing combination\n",
        "  elif user=='p' and computer=='s':\n",
        "    return 0\n",
        "  elif user=='r' and computer=='p':\n",
        "    return 0\n",
        "  elif user=='s' and computer=='r':\n",
        "    return 0\n",
        "  \n",
        "  #tied combination\n",
        "  elif user=='r' and computer=='r':\n",
        "    return 't'\n",
        "  elif user=='p' and computer=='p':\n",
        "    return 't'\n",
        "  elif user=='s' and computer=='s':\n",
        "    return 't'\n",
        "\n",
        "  elif user=='r' and user2=='s':\n",
        "    return 1\n",
        "  elif user=='p' and user2=='s':\n",
        "    return 1\n",
        "  elif user=='s' and user2=='p':\n",
        "    return 1\n",
        "\n",
        "  elif user=='p' and user2=='s':\n",
        "    return 2\n",
        "  elif user=='r' and user2=='p':\n",
        "    return 2\n",
        "  elif user=='s' and user2=='r':\n",
        "    return 2\n",
        "\n",
        "  elif user=='r' and user2=='r':\n",
        "    return 'p2'\n",
        "  elif user=='p' and user2=='p':\n",
        "    return 'p2'\n",
        "  elif user=='s' and user2=='s':\n",
        "    return 'p2'\n",
        "  \n"
      ],
      "metadata": {
        "id": "swN_xUVwxxJX"
      },
      "execution_count": 23,
      "outputs": []
    },
    {
      "cell_type": "code",
      "source": [
        "print('welcome to the game')\n",
        "print('\\t Vs computer')\n",
        "print('\\t Vs player')\n",
        "start=input('Start.')\n",
        "if start=='s':\n",
        "  print(\"Selct game mood\")\n",
        "  \n",
        "  mood=input()\n",
        "  if mood=='1':\n",
        "    user=input('Enter your move')\n",
        "    user2=0\n",
        "    number=random.randint(1,3)\n",
        "    if number==1:\n",
        "      computer='r'\n",
        "    elif number==2:\n",
        "      computer='p'\n",
        "    elif number==3:\n",
        "      computer='s'\n",
        "    else:\n",
        "      print('Wrong input!')\n",
        "    play=game(user,user2,computer)\n",
        "    if play==1:\n",
        "      print(\"You've won!\")\n",
        "    elif play==0:\n",
        "      print(\"You lose!\")\n",
        "    elif play=='t':\n",
        "      print(\"The game is a tie!\")\n",
        "\n",
        " \n",
        "    \n",
        "    \n",
        "    elif mood=='2':\n",
        "      user=input(\"Player1: Enter your move:\\t\")\n",
        "      user2=input(\"Player2: Enter your move:\\t\")\n",
        "      computer=0\n",
        "      play=game(user,user2,computer)\n",
        "      if play==1:\n",
        "        print(\"Player1 has won!\")\n",
        "      elif play==2:\n",
        "        print(\"Player2 has won!\")\n",
        "      elif play=='p2':\n",
        "        print(\"The game is a tie!\")\n",
        "print('\\t Play again \\n\\t Exit')\n",
        "n=input('\\n')\n",
        "if n=='1':\n",
        "  start='s'\n",
        "else:\n",
        "  print(\"Quit\")\n",
        "\n",
        "  "
      ],
      "metadata": {
        "id": "LDg8bBHdv8iH"
      },
      "execution_count": null,
      "outputs": []
    },
    {
      "cell_type": "code",
      "source": [],
      "metadata": {
        "colab": {
          "base_uri": "https://localhost:8080/"
        },
        "id": "HSI_GOXhqCvJ",
        "outputId": "2a5f5c23-7cf4-4243-bc96-1ee48c3216cc"
      },
      "execution_count": 21,
      "outputs": [
        {
          "output_type": "stream",
          "name": "stdout",
          "text": [
            "\t Play again \n",
            "\t Exit\n"
          ]
        }
      ]
    }
  ]
}